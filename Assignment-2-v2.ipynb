{
 "cells": [
  {
   "cell_type": "markdown",
   "metadata": {
    "collapsed": true,
    "pycharm": {
     "name": "#%%\n"
    }
   },
   "source": [
    "# Assignment 2: 2-Pack"
   ]
  },
  {
   "cell_type": "code",
   "execution_count": 197,
   "metadata": {
    "pycharm": {
     "is_executing": false
    }
   },
   "outputs": [],
   "source": [
    "from framework import *\n",
    "import math\n",
    "import math\n",
    "import numpy as np\n",
    "import random"
   ]
  },
  {
   "cell_type": "markdown",
   "metadata": {},
   "source": [
    "## Problem Description\n",
    "\n",
    "The problem considers a set of $n$ rectangular boxes that are to be packed into a set of $m$ containers. Each box and each container has an $x$-length and a $y$-length. Furthermore each box as an associated weight $w$ that represents how important it is that the box is packed into a container. A box can either be packed vertically or horizontally into the container. The aim of the problem is to pack as many boxes into containers as possible such that the sum of the weights of packed boxes is maximised. Note that boxes cannot overlap and must stay within the boundaries of the containers. A solution to a problem with four containers and 100 boxes is visualised below.\n",
    "\n",
    "\n",
    "![title](images/lab2.png)\n",
    "\n"
   ]
  },
  {
   "cell_type": "markdown",
   "metadata": {
    "editable": false
   },
   "source": [
    "## Data\n",
    "\n",
    "A number of data files have been generated. Data files are in the following format\n",
    "\n",
    "$n$\n",
    "\n",
    "$x^{container}_1$ $y^{container}_1$ \n",
    "\n",
    "$x^{container}_2$ $y^{container}_2$ \n",
    "\n",
    "...\n",
    "\n",
    "$x^{container}_n$ $y^{container}_n$\n",
    "\n",
    "$m$\n",
    "\n",
    "$x^{box}_1$ $y^{box}_1$ $w^{box}_1$ \n",
    "\n",
    "$x^{box}_2$ $y^{box}_2$ $w^{box}_2$\n",
    "\n",
    "...\n",
    "\n",
    "$x^{box}_m$ $y^{box}_m$ $w^{box}_m$\n"
   ]
  },
  {
   "cell_type": "markdown",
   "metadata": {},
   "source": [
    "## Part 1: Corner Heuristic (50 marks)\n",
    "\n",
    "## Corner Heuristic\n",
    "\n",
    "An efficient heuristic for the 2d packing problem can be developed that is based on a couple of insights: (1) we may as well pack in corners and (2) corners are easy to track. To do so, for all empty containers we only consider the bottom-left corner as the initial corner. When we insert a box into that container we check whether the box can be placed (both horizontally and vertically) into that corner. A box can fit into a specific corner in a container in a specific direction if firstly the box fits inside the container, and secondly it does not overlap any other boxes that are already placed in the container. Once a box is inserted into a corner we can create two new corners - one at the top-left corner of the box, and one at the bottom-right corner of the box. In the image below, we see how the corners progress as boxes are inserted into a container. \n",
    "\n",
    "\n",
    "![title](images/corners.png)\n",
    "\n",
    "If a box cannot fit into any of the corners from any of the containers then in the final solution it remains unpacked. Note that the order that both the boxes and containers are considered by the heuristic will most likely produce different solutions, as well as the order corners are considered by a box and whether the box first attempts to be inserted horizontally or vertically.\n",
    "\n",
    "Part 1 of the assignment will consider implementing this heuristic. Template code is given but only to generate an initial solution. Please rewrite the functions (including function parameters!) as required.\n",
    "\n"
   ]
  },
  {
   "cell_type": "markdown",
   "metadata": {},
   "source": [
    "**1a) Complete a function to check whether a box can be inserted into a specific corner of a container in a specific direction (i.e., either horizontally or vertically) (10 marks)** - Note a position is infeasible if any part of the box is outside the container or if the box overlaps with any other box that are already positioned in the container"
   ]
  },
  {
   "cell_type": "code",
   "execution_count": 198,
   "metadata": {
    "pycharm": {
     "is_executing": false,
     "name": "#%%\n"
    }
   },
   "outputs": [],
   "source": [
    "def overlap_container(container, box1):\n",
    "    \"\"\"\n",
    "    :param container:\n",
    "    :param box1:\n",
    "    :return:true: out of bound, false: inside of the box \n",
    "    \"\"\"\n",
    "    return not (box1[0] >= 0 and box1[1] >= 0 and box1[2] <= container.x_length and box1[3] <= container.y_length)"
   ]
  },
  {
   "cell_type": "code",
   "execution_count": 199,
   "metadata": {
    "pycharm": {
     "is_executing": false,
     "name": "#%%\n"
    }
   },
   "outputs": [],
   "source": [
    "def overlap_box(box1 , box2):\n",
    "    # test two overlapped or not\n",
    "    \"\"\"\n",
    "    :param box1:\n",
    "    :param box2:\n",
    "    :return:true: overlap ; false: not overlap\n",
    "    \"\"\"\n",
    "    x1down, y1down, x1up, y1up = box1[0], box1[1], box1[2], box1[3]\n",
    "    x2down, y2down, x2up, y2up = box2[0], box2[1], box2[2], box2[3]\n",
    "    return not (x1down >= x2up or x1up <= x2down or y1down >= y2up or y1up <= y2down)"
   ]
  },
  {
   "cell_type": "code",
   "execution_count": 200,
   "metadata": {
    "pycharm": {
     "is_executing": false
    }
   },
   "outputs": [],
   "source": [
    "def check_placement_feasibility(container, candidate_box, is_horizontal, corner): \n",
    "    \n",
    "    box1 = box_positions(candidate_box, is_horizontal, corner)\n",
    "    # test the box in container\n",
    "    if overlap_container(container, box1):\n",
    "        return False\n",
    "    # if len(container.boxes) == 0:\n",
    "    #     return True\n",
    "    for eachbox in container.boxes:\n",
    "        box2 = [eachbox.x_min, eachbox.y_min, eachbox.x_min + eachbox.x_delta,\n",
    "                eachbox.y_min + eachbox.y_delta]\n",
    "        if overlap_box(box2, box1):\n",
    "            return False\n",
    "    return True"
   ]
  },
  {
   "cell_type": "code",
   "execution_count": 201,
   "metadata": {
    "pycharm": {
     "is_executing": false,
     "name": "#%%\n"
    }
   },
   "outputs": [],
   "source": [
    "def box_positions(box,is_horizontal,corner):\n",
    "    \"\"\"\n",
    "    \n",
    "    :param box: \n",
    "    :param is_horizontal: \n",
    "    :param corner: \n",
    "    :return: a list of 4 positions : left_bottom x, left_bottom_y, top_right x, top_right y \n",
    "    \"\"\"\n",
    "    return [corner.x,corner.y,corner.x+ (box.x_length if is_horizontal else box.y_length),corner.y+(box.y_length if is_horizontal else box.x_length)]"
   ]
  },
  {
   "cell_type": "markdown",
   "metadata": {},
   "source": [
    "**1b) Write a function to update the corners of a container when a box is placed into a corner in a specific direction (10 marks)** - Note that the corner into which the box is being placed can be removed from the container and new corners are added at the top-left and bottom-right of the inserted box"
   ]
  },
  {
   "cell_type": "code",
   "execution_count": 202,
   "metadata": {
    "pycharm": {
     "is_executing": false
    }
   },
   "outputs": [],
   "source": [
    "def update_corners(container, box, is_horizontal, corner):\n",
    "    box1 = box_positions(box, is_horizontal, corner)\n",
    "    if check_placement_feasibility(container, box, is_horizontal, corner):\n",
    "        container.corners.pop(container.corners.index(corner))  \n",
    "        container.corners.append(Corner(x=box1[0], y=box1[3]))\n",
    "        container.corners.append(Corner(x=box1[2], y=box1[1]))\n",
    "        return True\n",
    "    return False"
   ]
  },
  {
   "cell_type": "markdown",
   "metadata": {},
   "source": [
    "**1c) Implement the corner heuristic (10 marks)** - Note that the heuristic should be able to generate different solutions depending on the input parameters, including  the order that the containers are considered, the order the boxes are considered, the direction preference of each box (i.e., does the heuristic try to first insert a box horizontally or vertically), and the corner preference of each box (i.e., what order does each box consider the corners of the containers). "
   ]
  },
  {
   "cell_type": "code",
   "execution_count": 203,
   "metadata": {
    "pycharm": {
     "is_executing": false
    }
   },
   "outputs": [],
   "source": [
    "def corner_heuristic(containers, boxes, direction_preferences, corner_preferences):\n",
    "    # TODO: implement the corner heuristic as described above. Please break up functions into smaller function as required.\n",
    "    # This place holder function simply adds the first box to the fix corner\n",
    "    \n",
    "    unpacked_boxes = [box for box in boxes if box.packed == False]\n",
    "    unpacked_containers = [contain for contain in containers if len(contain.boxes) == 0]\n",
    "    for index, box in enumerate(unpacked_boxes):\n",
    "        for container in unpacked_containers:\n",
    "            if pack(container, box, corner_preferences, direction_preferences, index):\n",
    "                # the box has been packed into a container, break the loop in containers\n",
    "                break\n",
    "\n",
    "    return SolutionState(containers, boxes, corner_preferences, direction_preferences)"
   ]
  },
  {
   "cell_type": "code",
   "execution_count": 204,
   "metadata": {
    "pycharm": {
     "is_executing": false
    }
   },
   "outputs": [],
   "source": [
    "def pack(container, box, corner_preferences, direction_preferences, index):\n",
    "    # TODO: Update or delete this function as required\n",
    "    \"\"\"\n",
    "    put one box to one container in a feasible position(try all directions and corners)\n",
    "    :param container:\n",
    "    :param box:\n",
    "    :return:\n",
    "    \"\"\"\n",
    "    \n",
    "    for corindex, corner in (enumerate(container.corners) ):\n",
    "        for direct in [direction_preferences[index], not direction_preferences[index]]:\n",
    "            #direction_preferences[index] = direct\n",
    "            if check_placement_feasibility(container,box,direction_preferences[index],corner) and not box.packed:\n",
    "                # update the corner after append\n",
    "                update_corners(container, box, direction_preferences[index], corner)  \n",
    "                box.pack(container.id, corner.x, corner.y, direction_preferences[index])\n",
    "                container.boxes.append(box)\n",
    "                # update the corner and direction\n",
    "                corner_preferences[index] = corindex\n",
    "                direction_preferences[index] = direct"
   ]
  },
  {
   "cell_type": "markdown",
   "metadata": {},
   "source": [
    "**1d) Demonstrate an execution of the corner heuristic on instance file_1_20.txt (10 marks)**. Here we will be checking that the corners are in the correct places and that the solution is feasible.\n",
    " 1.  the corner heuristic function will iterate all boxes, and each box will select a valid container to put into. \n",
    " 2.  When choosing a valid container, the box will try every corner position and try prefered horizontality to fit into a box(if prefered horizontality not valid, try to rotate it). \n",
    " 3.  If box find a valid container( check_placement_feasibility returns True),   \n",
    "    then we first update the corners in this container , update the box's information(the containers it belongs to, the left bottom coordinate,its horizontality),\n",
    "    second, update the the corner_preferences and direction_preferences\n",
    " 4. return a feasible solution\n",
    "  "
   ]
  },
  {
   "cell_type": "code",
   "execution_count": 205,
   "metadata": {
    "pycharm": {
     "is_executing": false
    },
    "scrolled": true
   },
   "outputs": [
    {
     "data": {
      "image/png": "[encoded data removed]",
      "text/plain": [
       "<Figure size 576x720 with 2 Axes>"
      ]
     },
     "metadata": {
      "needs_background": "light"
     },
     "output_type": "display_data"
    },
    {
     "name": "stdout",
     "output_type": "stream",
     "text": [
      "Solution objective is 172\n"
     ]
    }
   ],
   "source": [
    "data = Data(\"Data/file_1_20.txt\")\n",
    "solution = corner_heuristic(data.containers, \n",
    "                            data.boxes, \n",
    "                            [0 for box in data.boxes], \n",
    "                            [True for box in data.boxes])\n",
    "solution.plot()\n",
    "print(\"Solution objective is {}\".format(solution.objective()))"
   ]
  },
  {
   "cell_type": "markdown",
   "metadata": {},
   "source": [
    "### Incompleteness of the corner-heuristic\n",
    "\n",
    "In general when building a meta-heuristic it is desirable to ensure that the heuristic being used to generate solutions is *complete*, i.e., for a given parameter setting the heuristic will generate the optimal solution. In the case where your meta-heuristic uses multiple heuristics, it is sufficient to ensure that only one of the heuristics is complete. The corner-heuristic is known to be incomplete. This means that for some problems, there does not exist a parameter setting to the heuristic that will generate an optimal solution.\n",
    "\n",
    "**1e) Provide a minimal counter example that demonstrates that the corner heuristic is incomplete, i.e., an instance of a 2-D packing problem where no matter what parameters the heuristic is given it will never find the optimal solution. Briefly explain your answer (10 marks).**"
   ]
  },
  {
   "cell_type": "markdown",
   "metadata": {},
   "source": [
    "WRITTEN RESPONSE HERE\n",
    "\n",
    "Because we always pack the box on the top left and bottom right corners, as a result, it can lead to waste of space if there is free space on the left hand side or bottom side of the candidate box. For example, we can free up more space by moving the box 15 to the left and moving 14 dowm side, and we can move 16 box or 17 box into the container.\n"
   ]
  },
  {
   "cell_type": "markdown",
   "metadata": {},
   "source": [
    "![title](images/Error.png)"
   ]
  },
  {
   "cell_type": "markdown",
   "metadata": {},
   "source": [
    "## Part 2: Large Neighbourhood Search (50 marks)\n",
    "\n",
    "Large Neighbourhood Search (LNS) is a single-solution based metaheuristic that aims to find high quality solutions to optimisation problems through iteratively destroying and repairing an incumbant solution. In the second part of this assignment we will build a LNS to the 2D packing problem that utilises the corner heuristic. Before the destroy and repair iterations of the Large Neighbourhood Search can begin, we must find an initial feasible solution to the problem. Below is a function that creates an initial feasible solution where no boxes are backed"
   ]
  },
  {
   "cell_type": "code",
   "execution_count": 206,
   "metadata": {
    "pycharm": {
     "is_executing": false
    }
   },
   "outputs": [],
   "source": [
    "def initial_feasible_solution(data):\n",
    "\t\"\"\"Takes the data and returns a feasible solution where no boxes are packed into any containers.\"\"\"\n",
    "\n",
    "\treturn SolutionState(containers=data.containers,\n",
    "\t\t\t\t\t\t\t\t\t\t   boxes=data.boxes,\n",
    "\t\t\t\t\t\t\t\t\t\t   corner_preferences=[0 for box in data.boxes],\n",
    "\t\t\t\t\t\t\t\t\t\t   direction_preferences=[True for index in range(len(data.boxes))])"
   ]
  },
  {
   "cell_type": "markdown",
   "metadata": {},
   "source": [
    "### Destroy\n",
    "\n",
    "Here we partially *destroy* a solution to our problem by completely unpacking a number of containers. In this way, the boxes in the packed containers remain *fixed* whereas the unpacked containers are *relaxed*. Clearly, the number of containers that we unpack (the *degree of destruction*) will impact how the search progresses.\n",
    "\n",
    "**2a) Complete the following function to partially destroy a given solution by completely unpacking a number of containers (10 marks)**"
   ]
  },
  {
   "cell_type": "code",
   "execution_count": 207,
   "metadata": {},
   "outputs": [],
   "source": [
    "def AreaLeft(container):\n",
    "    # to calculate the left space for a container for sorting\n",
    "    \n",
    "    boxarea = sum([box.x_length*box.y_length for box in container.boxes])\n",
    "    return container.x_length * container.y_length - boxarea"
   ]
  },
  {
   "cell_type": "code",
   "execution_count": null,
   "metadata": {},
   "outputs": [],
   "source": []
  },
  {
   "cell_type": "code",
   "execution_count": 208,
   "metadata": {},
   "outputs": [],
   "source": [
    "def containerNeedUnpack(containers, degree_of_destruction):\n",
    "    \"\"\"choose the boxes by remining space\"\"\"\n",
    "    # decide how many containers to unpack\n",
    "    degree = math.ceil(len(containers) * degree_of_destruction)\n",
    "    # calculate the corresponding free space for containers and form a list\n",
    "    remines = list(map(AreaLeft, containers))\n",
    "    # form a list to store a pair of (free space,and container)\n",
    "    rtn = list(zip(remines,containers))\n",
    "    #sort the list by its remaining space in non-increasing order\n",
    "    rtn.sort(key=(lambda item:item[0]),reverse=True)\n",
    "    # only return the containers which need to be unpacked\n",
    "    return [con[1] for con in rtn[0:degree]]"
   ]
  },
  {
   "cell_type": "code",
   "execution_count": 209,
   "metadata": {
    "pycharm": {
     "is_executing": false
    }
   },
   "outputs": [],
   "source": [
    "def destroy(incumbant_solution, degree_of_destruction=0.5):\n",
    "    \"\"\"Unpacks a certain number of containers\"\"\"\n",
    "    # readyForUnpack stores the containers which are raedy for unpacking\n",
    "    # only unpack the \n",
    "    readyForUnpack = containerNeedUnpack(incumbant_solution.containers, degree_of_destruction)\n",
    "    for container in readyForUnpack:\n",
    "        container.unpack()\n",
    "    return incumbant_solution"
   ]
  },
  {
   "cell_type": "markdown",
   "metadata": {},
   "source": [
    "### Repair\n",
    "\n",
    "We repair a solution by using the corner-heuristic to try to reinsert the unpacked boxes. Recall that there are a number of parameters, i.e. box order, container order, corner preferences and direction preferences, that will impact how the corner heuristic will construct a solution. For example, the following parameter choices all seem reasonable\n",
    "\n",
    "* Shuffle the boxes randomly, while keeping the remaining parameters the same as the incumbant solution\n",
    "* Order the boxes by weight in a non-increasing order, while keeping the remaining parameters the same as the incumbant solution\n",
    "* Order the boxes by weight / area in a non-increasing order, while keeping the remaining parameters the same as the incumbant solution\n",
    "* Shuffle the container order randomly, wile keeping the remaining parameters the same as the incumbant solution\n",
    "* Permute the direction preferences of some boxes, while keeping the remaining parameters the same as the incumbant solution\n",
    "* Modify the corner preferences of some boxes, while keeping the remaining parameters the same as the incumbant solution\n",
    "\n",
    "\n",
    "We do not want to constrain the heuristic to always use the same parameters choices and therefore wish for the solution to select parameters from a repair solution probabilistically.\n",
    "\n",
    "**2b) Complete the following function to reconstruct a solution. Ensure that it is possible to exploit different parameters choices (at least 5) when using the corner heuristic. Briefly (in 5 lines or less) explain your approach (20 marks)**"
   ]
  },
  {
   "cell_type": "markdown",
   "metadata": {},
   "source": [
    "WRITTEN RESPONSE HERE\n",
    "I use the ALNS to unpack the containers which leaves most space among all containers. In repair, I have tried several methods to optimize the solutions, including ranking the boxes by weights( non-increasing order), by areas of boxes, and by density(weight/area). And also, I have tried to shuffle boxes randomly and randomly choose the prefered directions. I find that corner preferences does not work well, so I choose to try every corners in order in containers. Finally, I find that follow the steps 1.shuffle the boxes 2 rank the boxes by weight 3. give a random direction preference gaining a optimal solution. "
   ]
  },
  {
   "cell_type": "code",
   "execution_count": 210,
   "metadata": {},
   "outputs": [],
   "source": [
    "def nonIncreaseWeight(boxes, corner_preferences,direction_preferences):\n",
    "    boxWeights = [box.weight for box in boxes]\n",
    "    rtn = list(zip(boxWeights,boxes,corner_preferences,direction_preferences))\n",
    "    rtn.sort(key=(lambda item:item[0]) , reverse=True)\n",
    "    rtnboxes = [item[1] for item in rtn]\n",
    "    rtncorners = [item[2] for item in rtn]\n",
    "    rtndirection = [item[3] for item in rtn]\n",
    "    return rtnboxes, rtncorners, rtndirection"
   ]
  },
  {
   "cell_type": "code",
   "execution_count": 211,
   "metadata": {},
   "outputs": [],
   "source": [
    "def nonIncreaseArea(boxes, corner_preferences, direction_preferences):\n",
    "    boxAreas = [box.x_length * box.y_length for box in boxes]\n",
    "    rtn = list(zip(boxAreas, boxes, corner_preferences, direction_preferences))\n",
    "    rtn.sort(key=lambda item: item[0], reverse=True)\n",
    "    rtnboxes = [item[1] for item in rtn]\n",
    "    rtncorners = [item[2] for item in rtn]\n",
    "    rtndirection = [item[3] for item in rtn]\n",
    "    return rtnboxes, rtncorners, rtndirection"
   ]
  },
  {
   "cell_type": "code",
   "execution_count": 212,
   "metadata": {},
   "outputs": [],
   "source": [
    "def nonIncreaseDensity(boxes, corner_preferences, direction_preferences):\n",
    "    boxDensity = [box.weight / box.x_length * box.y_length for box in boxes]\n",
    "    rtn = list(zip(boxDensity, boxes, corner_preferences, direction_preferences))\n",
    "    rtn.sort(key=lambda item: item[0], reverse=True)\n",
    "    rtnboxes = [item[1] for item in rtn]\n",
    "    rtncorners = [item[2] for item in rtn]\n",
    "    rtndirection = [item[3] for item in rtn]\n",
    "    return rtnboxes, rtncorners, rtndirection"
   ]
  },
  {
   "cell_type": "code",
   "execution_count": 213,
   "metadata": {},
   "outputs": [],
   "source": [
    "def shuffleBoxes(solution):\n",
    "    # fixedsolution = deepcopy(solution)\n",
    "    num = len(solution.boxes)\n",
    "    rtn = list(zip(solution.boxes, solution.corner_preferences, solution.direction_preferences))\n",
    "    random.shuffle(rtn)\n",
    "    rtnboxes = [item[0] for item in rtn]\n",
    "    rtncorners = [item[1] for item in rtn]\n",
    "    rtndirection = [item[2] for item in rtn]\n",
    "    return rtnboxes, rtncorners, rtndirection"
   ]
  },
  {
   "cell_type": "code",
   "execution_count": 214,
   "metadata": {
    "pycharm": {
     "is_executing": false
    }
   },
   "outputs": [],
   "source": [
    "def repair(solution):\n",
    "    \"\"\"Repair the solution using the corner-heuristic with different parameter settings. There are a range of possible\n",
    "    parameter settings\"\"\"\n",
    "\n",
    "    boxnum = len(solution.boxes)\n",
    "    # random boxes\n",
    "    solution.boxes, solution.corner_preferences, solution.direction_preferences = shuffleBoxes(solution)\n",
    "    # boxes in non-increasing-weight order\n",
    "    solution.boxes, solution.corner_preferences, solution.direction_preferences = nonIncreaseWeight(solution.boxes,\n",
    "                                                                                                    solution.corner_preferences,\n",
    "                                                                                                    solution.direction_preferences)\n",
    "    #solution.boxes, solution.corner_preferences, solution.direction_preferences = nonIncreaseDensity(solution.boxes, solution.corner_preferences,solution.direction_preferences)\n",
    "    # boxes in non-increasing-area order\n",
    "    #solution.boxes,solution.corner_preferences,solution.direction_preferences = nonIncreaseArea(solution.boxes,solution.corner_preferences, solution.direction_preferences)\n",
    "    # random.shuffle(solution.containers)\n",
    "    # shuffle direction_preference\n",
    "    solution.direction_preferences = [random.choice([True, False]) for i in range(boxnum)]\n",
    "    # modify corner_preferences\n",
    "    # solution.corner_preferences = [random.randint(0, boxnum) for i in range(boxnum)]\n",
    "    return corner_heuristic(solution.containers,\n",
    "                            solution.boxes,\n",
    "                            solution.corner_preferences,\n",
    "                            solution.direction_preferences)"
   ]
  },
  {
   "cell_type": "code",
   "execution_count": 215,
   "metadata": {
    "pycharm": {
     "is_executing": false
    }
   },
   "outputs": [],
   "source": [
    "def unchanged(list_of_objects):\n",
    "\treturn list_of_objects"
   ]
  },
  {
   "cell_type": "markdown",
   "metadata": {},
   "source": [
    "## Iterate\n",
    "\n",
    "LNS works by iteratively destroying and repairing an incumbant solution. Applications of LNS often differ in how they update the incumbant solution. For example, the simplest version of LNS simply accepts any new solution that has an objective function that is at least as good as the current incumbant. This can be thought of as a hill-climbing method. More advanced methods, such as Simulated-Annealing, allow the possibly for the incumbant solution to be replaced by a solution with a worse objective. \n",
    "\n",
    "**2c) Implement a LNS that iteratively repairs and detroys a solution using your detroy and repair operators and accepts a new solution if the objective is at least as good as the incumbant solution (10 marks)**"
   ]
  },
  {
   "cell_type": "markdown",
   "metadata": {},
   "source": [
    "Explanation: Here I simply used a hill-climbing acceptance criteria. My logic for doing so is that the neighbourhoods I am considering are quite large (i.e., the degree-of-destuction is 50% and I have a lot of variability in my repair operator), so I am not overly concerned about getting stuck in a local minimum."
   ]
  },
  {
   "cell_type": "code",
   "execution_count": 216,
   "metadata": {
    "pycharm": {
     "is_executing": false
    }
   },
   "outputs": [],
   "source": [
    "def LNSSolver(data, number_iterations):\n",
    "    incumbant_solution = initial_feasible_solution(data)\n",
    "    currentsolution = deepcopy(incumbant_solution)\n",
    "    for num in range(number_iterations):\n",
    "        while(currentsolution.objective()<800):\n",
    "            currentsolution = destroy(currentsolution, 0.5)\n",
    "            currentsolution = repair(currentsolution)\n",
    "            if (currentsolution.objective() > incumbant_solution.objective()):\n",
    "                incumbant_solution = deepcopy(currentsolution)\n",
    "                print(\"Total weight is %s now\" % (incumbant_solution.objective()))\n",
    "    return incumbant_solution"
   ]
  },
  {
   "cell_type": "markdown",
   "metadata": {},
   "source": [
    "**2d) Evaluate your LNS solver on instance file_4_100.txt. (10 marks)** \n",
    "\n",
    "Hint: You should be aiming for a solution with an objective above 800"
   ]
  },
  {
   "cell_type": "code",
   "execution_count": 196,
   "metadata": {
    "pycharm": {
     "is_executing": false
    }
   },
   "outputs": [
    {
     "name": "stdout",
     "output_type": "stream",
     "text": [
      "Total weight is 773 now\n",
      "Total weight is 780 now\n",
      "Total weight is 785 now\n",
      "Total weight is 786 now\n",
      "Total weight is 789 now\n",
      "Total weight is 795 now\n",
      "Total weight is 796 now\n",
      "Total weight is 803 now\n"
     ]
    },
    {
     "data": {
      "image/png": "[encoded data removed]",
      "text/plain": [
       "<Figure size 2304x720 with 5 Axes>"
      ]
     },
     "metadata": {
      "needs_background": "light"
     },
     "output_type": "display_data"
    },
    {
     "data": {
      "text/plain": [
       "803"
      ]
     },
     "execution_count": 196,
     "metadata": {},
     "output_type": "execute_result"
    }
   ],
   "source": [
    "data = Data(\"Data/file_4_100.txt\")\n",
    "lns = LNSSolver(data, 1)\n",
    "lns.plot()\n",
    "lns.objective()"
   ]
  },
  {
   "cell_type": "markdown",
   "metadata": {},
   "source": [
    "# **Additional Resources**\n",
    "\n",
    "1. There is a python library 'alns' that helps build a variant of LNS known as Adaptive Large Neighbourhood Search. In the examples of this library it demonstrates how to solve the [travelling salesman problem (TSP)](https://github.com/N-Wouda/ALNS/blob/master/examples/travelling_salesman_problem.ipynb) and the [cutting stock problem (CSP)](https://github.com/N-Wouda/ALNS/blob/master/examples/cutting_stock_problem.ipynb). This is vary similar to what we are trying to achieve in this assigment\n",
    "2. Some useful references:\n",
    "  * Shaw P. (1998) Using Constraint Programming and Local Search Methods to Solve Vehicle Routing Problems. In: Maher M., Puget JF. (eds) Principles and Practice of Constraint Programming — CP98. CP 1998. Lecture Notes in Computer Science, vol 1520. Springer, Berlin, Heidelberg\n",
    "  * Pisinger, D., and Ropke, S. (2010). Large Neighborhood Search. In M. Gendreau (Ed.), Handbook of Metaheuristics (2 ed., pp. 399-420). Springer.\n",
    "  * Santini, A., Ropke, S. & Hvattum, L.M. (2018). A comparison of acceptance criteria for the adaptive large neighbourhood search metaheuristic. Journal of Heuristics 24 (5): 783-815."
   ]
  },
  {
   "cell_type": "code",
   "execution_count": null,
   "metadata": {},
   "outputs": [],
   "source": []
  }
 ],
 "metadata": {
  "celltoolbar": "Edit Metadata",
  "kernelspec": {
   "display_name": "Python 3",
   "language": "python",
   "name": "python3"
  },
  "language_info": {
   "codemirror_mode": {
    "name": "ipython",
    "version": 3
   },
   "file_extension": ".py",
   "mimetype": "text/x-python",
   "name": "python",
   "nbconvert_exporter": "python",
   "pygments_lexer": "ipython3",
   "version": "3.7.3"
  },
  "pycharm": {
   "stem_cell": {
    "cell_type": "raw",
    "metadata": {
     "collapsed": false
    },
    "source": []
   }
  }
 },
 "nbformat": 4,
 "nbformat_minor": 1
}
